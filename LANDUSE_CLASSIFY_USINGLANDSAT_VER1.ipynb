{
 "cells": [
  {
   "cell_type": "code",
   "execution_count": null,
   "metadata": {
    "collapsed": true
   },
   "outputs": [],
   "source": [
    "###############################\n",
    "#PYTHON SCRIPT FOR LANDUSE CLASSIFICATION USING LANDSAT 8 LEVEL 1 IMAGES\n",
    "#LANDSAT 8 LEVEL 1 DATA MUST BE ATMOSPHERICALLY CORRECTED AND PAN-SHARPENED USING SCP PLUGIN ON QGIS\n",
    "#AUTHOR: PHAM DANG MANH HONG LUAN\n",
    "#EMAIL: hongluanosgeo@gmail.com\n",
    "#DATE: 09/04/2018\n",
    "#VERSION: 1.0\n",
    "###############################"
   ]
  },
  {
   "cell_type": "code",
   "execution_count": null,
   "metadata": {
    "collapsed": true
   },
   "outputs": [],
   "source": [
    "#IMPORT NECESSARY LIBRARIES\n",
    "import numpy as np\n",
    "import matplotlib.pyplot as plt\n",
    "import seaborn as sns\n",
    "import matplotlib.pyplot as plt\n",
    "%matplotlib inline\n",
    "import seaborn as sns\n",
    "sns.set(style=\"ticks\", color_codes=True)\n",
    "from osgeo import gdal,ogr,gdal_array\n",
    "import pandas as pd\n",
    "import sys,os,shutil\n",
    "from sklearn.ensemble import RandomForestClassifier\n",
    "import os.path\n",
    "import geopandas as gpd\n",
    "from sklearn.decomposition import PCA\n",
    "from sklearn import preprocessing"
   ]
  },
  {
   "cell_type": "code",
   "execution_count": null,
   "metadata": {},
   "outputs": [],
   "source": [
    "#GET DIMENSIONS OF INPUT DATA\n",
    "indir = input('INPUT THE DIRECTORY TO SATELLITE DATA:')\n",
    "while  os.path.isdir(indir) == False:\n",
    "    print('\\nDIRECTORY DOES NOT EXIST OR WAS INCORRECTLY INPUTED! PLEASE INPUT AGAIN!\\n')\n",
    "    indir = input('INPUT THE DIRECTORY TO SATELLITE DATA: ')\n",
    "for dirname, dirnames, filenames in os.walk(indir):\n",
    "    for filename in filenames:\n",
    "        fullname = os.path.join(dirname, filename)\n",
    "        if fullname[-3:].lower() == 'tif':\n",
    "            if fullname[-5:].lower() == '2.tif':\n",
    "                img = gdal.Open(fullname,gdal.GA_ReadOnly)\n",
    "                gt = img.GetGeoTransform()\n",
    "                ulX = gt[0]\n",
    "                weres = gt[1]\n",
    "                ulY = gt[3]\n",
    "                nsres = gt[5]\n",
    "                Xdim = img.RasterXSize\n",
    "                Ydim = img.RasterYSize\n",
    "                urX = ulX + Xdim * weres\n",
    "                lrY = ulY - (Ydim * -(nsres))            "
   ]
  },
  {
   "cell_type": "code",
   "execution_count": null,
   "metadata": {
    "collapsed": true
   },
   "outputs": [],
   "source": [
    "#OPEN DATA\n",
    "#INPUT DATA INCLUDES 6 BANDS OF LANDSAT IMAGE ATMOSPHERICALLY CORRECTED AND PAN-SHARPENED TO 15-M RESOLUTION\n",
    "#Creat a list of input data\n",
    "lstfullnames = []\n",
    "for dirname, dirnames, filenames in os.walk(indir):\n",
    "    for filename in filenames:\n",
    "        fullname = os.path.join(dirname, filename)\n",
    "        if fullname[-3:].lower() == 'tif':\n",
    "            if fullname[-5:].lower() in ['2.tif','3.tif','4.tif','5.tif','6.tif','7.tif']:\n",
    "                lstfullnames.append(fullname)\n",
    "#Create array to store 6 bands\n",
    "wedim = int((urX - ulX)/15)\n",
    "nsdim = int((ulY - lrY)/15)\n",
    "imgarray = np.zeros((nsdim, wedim, 6),dtype = np.float64)\n",
    "#Load each band into newly created array\n",
    "for j in range(len(lstfullnames)):          \n",
    "    img = gdal.Open(lstfullnames[j],gdal.GA_ReadOnly)                     \n",
    "    imgarray[:,:,j] = img.GetRasterBand(1).ReadAsArray()               "
   ]
  },
  {
   "cell_type": "code",
   "execution_count": null,
   "metadata": {},
   "outputs": [],
   "source": [
    "#CLIP INPUT DATA\n",
    "#Import shapefile of region of interest\n",
    "subdir = input('INPUT THE NAME OF SHAPEFILE TO SUBSET DATA: ')\n",
    "while  os.path.isfile(subdir) == False:\n",
    "    print('\\nFILE DOES NOT EXIST OR WAS INCORRECTLY INPUTED! PLEASE INPUT AGAIN!\\n')\n",
    "    subdir = input('INPUT THE NAME OF SHAPEFILE TO SUBSET DATA: ')\n",
    "driver = ogr.GetDriverByName(\"ESRI Shapefile\")\n",
    "datasource = driver.Open(str(subdir),0)\n",
    "lyr = datasource.GetLayer() \n",
    "#Get spatial extensions of input shapefile\n",
    "XshpMin,XshpMax,YshpMin,YshpMax = lyr.GetExtent()\n",
    "#Converting spatial extensions to array extensions\n",
    "#Function getting array extension\n",
    "def geo2arrdim(Xmin,Ymax,X,Y):\n",
    "    ulX = Xmin\n",
    "    weres = 15\n",
    "    ulY = Ymax\n",
    "    nsres = -15\n",
    "    Xcord = int((X - ulX)/weres)\n",
    "    Ycord = int((Y - ulY)/nsres)\n",
    "    return(Xcord, Ycord)\n",
    "#Convert shapefile extensions to array extensions\n",
    "ulX2,ulY2 = geo2arrdim(ulX,ulY,XshpMin, YshpMax)\n",
    "lrX2,lrY2 = geo2arrdim(ulX,ulY,XshpMax, YshpMin)\n",
    "#Create array of clipped raster bands\n",
    "cliparr = np.zeros((lrY2-ulY2,lrX2-ulX2 ,6),dtype = np.float64)\n",
    "for i in range(imgarray.shape[2]):            \n",
    "    cliparr[:,:,i] = imgarray[ulY2:lrY2,ulX2:lrX2,i]"
   ]
  },
  {
   "cell_type": "code",
   "execution_count": null,
   "metadata": {},
   "outputs": [],
   "source": [
    "#VISUALIZING CLIPED INPUT LANDSAT BANDS\n",
    "bandlist = ['Blue', 'Green', 'Red', 'Near Infrared', 'SWIR 1', 'SWIR 2']\n",
    "fig= plt.figure(figsize=(25,10))\n",
    "for i in range(6):       \n",
    "    plt.subplot(2,3,i+1)\n",
    "    im=plt.imshow(cliparr[:,:,i],cmap=plt.cm.Greys_r)\n",
    "    plt.title('{} Band'.format(bandlist[i]))\n",
    "    plt.colorbar(im)\n",
    "    plt.axis('off')\n",
    "plt.show()"
   ]
  },
  {
   "cell_type": "code",
   "execution_count": null,
   "metadata": {},
   "outputs": [],
   "source": [
    "#VISUALIZING HISTOGRAM OF INPUT LANDSAT BANDS\n",
    "#Convert to two-dimensional array\n",
    "def convert2sing(imgarray):\n",
    "    arrlist = []\n",
    "    for i in range(imgarray.shape[2]):\n",
    "        barray = imgarray[:,:,i]\n",
    "        singarray = barray.ravel()\n",
    "        arrlist.append(singarray)\n",
    "    return arrlist\n",
    "singarrlst = convert2sing(cliparr)\n",
    "#Plot histogrms of input Landsat bands\n",
    "colors = ['blue','green','red','cyan','magenta','yellow']\n",
    "fig = plt.figure(figsize=(25,10))\n",
    "plt.hist(singarrlst, bins = 200, color = colors, label = bandlist,histtype='step')\n",
    "plt.legend(bbox_to_anchor=(0., 1.02, 1., .102),fontsize = 15,loc = 2, ncol=6, mode='expand')\n",
    "plt.xlabel('Pixel value', fontsize = 15)\n",
    "plt.ylabel('Number of pixels', fontsize = 15)\n",
    "plt.tick_params(axis='both', labelsize=15)\n",
    "plt.show() "
   ]
  },
  {
   "cell_type": "code",
   "execution_count": null,
   "metadata": {},
   "outputs": [],
   "source": [
    "#CREATING COMPOSITE IMAGE\n",
    "#REMEMBER THAT NEW ORDER OF LANDSAT 8 BANDS IN NEWLY CREATEDLY ARRAY IS AS FOLLOW (ORDER ARRAY/NAME OF BAND)\n",
    "#0/BLUE (band 2); 1/GREEN (band 3); 2/RED (band 4); 3/NEAR INFRARED (band 5); 4/SWIR 1 (band 6); 5/SWIR 2 (band 7)\n",
    "#Function normalizing bands\n",
    "def normbands(imgarr):\n",
    "    clipnorm = np.zeros((cliparr.shape[0],cliparr.shape[1],cliparr.shape[2]),dtype=np.float64)\n",
    "    for a in range(cliparr.shape[2]):\n",
    "        std = cliparr[:,:,a].std()\n",
    "        mean = cliparr[:,:,a].mean()\n",
    "        minval = mean - std\n",
    "        maxval = mean + std\n",
    "        for i in range(cliparr.shape[0]):\n",
    "            for j in range(cliparr.shape[1]):\n",
    "                if cliparr[i,j,a] > maxval:\n",
    "                    clipnorm[i,j,a] = maxval\n",
    "                elif cliparr[i,j,a] < minval:\n",
    "                    clipnorm[i,j,a] = minval\n",
    "                else:\n",
    "                    clipnorm[i,j,a] = cliparr[i,j,a]\n",
    "    for b in range(clipnorm.shape[2]):\n",
    "        clipnorm[:,:,b] = (clipnorm[:,:,b]-clipnorm[:,:,b].min())*1/(clipnorm[:,:,b].max() - clipnorm[:,:,b].min())\n",
    "    return clipnorm\n",
    "#Get normalized array\n",
    "clipnorm = normbands(cliparr)\n",
    "#Create composite image\n",
    "compnatimg = np.dstack((clipnorm[:,:,2],clipnorm[:,:,1],clipnorm[:,:,0]))\n",
    "compinfimg = np.dstack((clipnorm[:,:,3],clipnorm[:,:,2],clipnorm[:,:,1]))\n",
    "comphveimg = np.dstack((clipnorm[:,:,4],clipnorm[:,:,3],clipnorm[:,:,0]))\n",
    "compveaimg = np.dstack((clipnorm[:,:,4],clipnorm[:,:,3],clipnorm[:,:,2]))\n",
    "compagrimg = np.dstack((clipnorm[:,:,4],clipnorm[:,:,3],clipnorm[:,:,2]))\n",
    "compufcimg = np.dstack((clipnorm[:,:,5],clipnorm[:,:,4],clipnorm[:,:,2]))\n",
    "compswiimg = np.dstack((clipnorm[:,:,5],clipnorm[:,:,3],clipnorm[:,:,2]))\n",
    "complwimg = np.dstack((clipnorm[:,:,3],clipnorm[:,:,4],clipnorm[:,:,2]))\n",
    "#Visualizing natural composite image\n",
    "figure = plt.figure(figsize=(25,10))\n",
    "plt.imshow(compnatimg)\n",
    "plt.title('Natural Composite', fontsize = 15)\n",
    "plt.axis('off')\n",
    "plt.tight_layout    \n",
    "plt.show()"
   ]
  },
  {
   "cell_type": "code",
   "execution_count": null,
   "metadata": {},
   "outputs": [],
   "source": [
    "#Visualizing infrared composite image\n",
    "figure = plt.figure(figsize=(25,10))\n",
    "plt.imshow(compinfimg)\n",
    "plt.title('Color Infrared Composite', fontsize = 15)\n",
    "plt.axis('off')\n",
    "plt.tight_layout    \n",
    "plt.show()"
   ]
  },
  {
   "cell_type": "code",
   "execution_count": null,
   "metadata": {},
   "outputs": [],
   "source": [
    "#Visualizing infrared composite image\n",
    "figure = plt.figure(figsize=(25,10))\n",
    "plt.imshow(comphveimg)\n",
    "plt.title('Healthy Vegitation Composite', fontsize = 15)\n",
    "plt.axis('off')\n",
    "plt.tight_layout    \n",
    "plt.show()"
   ]
  },
  {
   "cell_type": "code",
   "execution_count": null,
   "metadata": {},
   "outputs": [],
   "source": [
    "#Visualizing infrared composite image\n",
    "figure = plt.figure(figsize=(25,10))\n",
    "plt.imshow(compveaimg)\n",
    "plt.title('Vegitation Analysis Composite', fontsize = 15)\n",
    "plt.axis('off')\n",
    "plt.tight_layout    \n",
    "plt.show()"
   ]
  },
  {
   "cell_type": "code",
   "execution_count": null,
   "metadata": {},
   "outputs": [],
   "source": [
    "#Visualizing infrared composite image\n",
    "figure = plt.figure(figsize=(25,10))\n",
    "plt.imshow(compagrimg)\n",
    "plt.title('Agricultural Composite', fontsize = 15)\n",
    "plt.axis('off')\n",
    "plt.tight_layout    \n",
    "plt.show()"
   ]
  },
  {
   "cell_type": "code",
   "execution_count": null,
   "metadata": {},
   "outputs": [],
   "source": [
    "#Visualizing urban false color composite image\n",
    "figure = plt.figure(figsize=(25,10))\n",
    "plt.imshow(compufcimg)\n",
    "plt.title('Urban False Color Composite', fontsize = 15)\n",
    "plt.axis('off')\n",
    "plt.tight_layout    \n",
    "plt.show()"
   ]
  },
  {
   "cell_type": "code",
   "execution_count": null,
   "metadata": {},
   "outputs": [],
   "source": [
    "#Visualizing urban false color composite image\n",
    "figure = plt.figure(figsize=(25,10))\n",
    "plt.imshow(compswiimg)\n",
    "plt.title('Shortwave Infrared Composite', fontsize = 15)\n",
    "plt.axis('off')\n",
    "plt.tight_layout    \n",
    "plt.show()"
   ]
  },
  {
   "cell_type": "code",
   "execution_count": null,
   "metadata": {},
   "outputs": [],
   "source": [
    "#Visualizing urban false color composite image\n",
    "figure = plt.figure(figsize=(25,10))\n",
    "plt.imshow(complwimg)\n",
    "plt.title('Land/Water Composite', fontsize = 15)\n",
    "plt.axis('off')\n",
    "plt.tight_layout    \n",
    "plt.show()"
   ]
  },
  {
   "cell_type": "code",
   "execution_count": null,
   "metadata": {
    "collapsed": true
   },
   "outputs": [],
   "source": [
    "#CALCULATE NDVI AND NDWI\n",
    "#REMEMBER THAT NEW ORDER OF LANDSAT 8 BANDS IN NEWLY CREATEDLY ARRAY IS AS FOLLOW (ORDER ARRAY/NAME OF BAND)\n",
    "#0/BLUE; 1/GREEN; 2/RED; 3/NEAR INFRARED; 4/SWIR 1; 5/SWIR 2\n",
    "#Calculate NDVI\n",
    "ndvi = (cliparr[:,:,3]-cliparr[:,:,2])/(cliparr[:,:,3]+cliparr[:,:,2])\n",
    "#Calculate NDWI\n",
    "ndwi = (cliparr[:,:,1]-cliparr[:,:,3])/(cliparr[:,:,1]+cliparr[:,:,3])"
   ]
  },
  {
   "cell_type": "code",
   "execution_count": null,
   "metadata": {},
   "outputs": [],
   "source": [
    "#VISUALIZING NDVI\n",
    "figure = plt.figure(figsize=(25,10))\n",
    "im = plt.imshow(ndvi,cmap=plt.cm.rainbow)\n",
    "plt.title('NDVI', fontsize = 15)\n",
    "plt.axis('off')\n",
    "plt.colorbar(im)   \n",
    "plt.show()"
   ]
  },
  {
   "cell_type": "code",
   "execution_count": null,
   "metadata": {},
   "outputs": [],
   "source": [
    "#VISUALIZING NDVI\n",
    "figure = plt.figure(figsize=(25,10))\n",
    "im = plt.imshow(ndwi,cmap=plt.cm.rainbow)\n",
    "plt.title('NDWI', fontsize = 15)\n",
    "plt.axis('off')\n",
    "plt.colorbar(im)\n",
    "plt.tight_layout    \n",
    "plt.show()"
   ]
  },
  {
   "cell_type": "code",
   "execution_count": null,
   "metadata": {
    "collapsed": true
   },
   "outputs": [],
   "source": [
    "#CREATE NEW ARRAY WITH NDVI AND NDWI DATA\n",
    "cliparr2 = np.zeros((lrY2-ulY2,lrX2-ulX2 ,8),dtype = np.float64)\n",
    "for i in range(cliparr.shape[2]):\n",
    "    cliparr2[:,:,i] = cliparr[:,:,i]\n",
    "cliparr2[:,:,6] = ndvi\n",
    "cliparr2[:,:,7] = ndwi"
   ]
  },
  {
   "cell_type": "code",
   "execution_count": null,
   "metadata": {},
   "outputs": [],
   "source": [
    "#VISUALIZING ALL INPUT DATA\n",
    "bandlist = ['Blue', 'Green', 'Red', 'Near Infrared', 'SWIR 1', 'SWIR 2','NDVI','NDWI']\n",
    "fig= plt.figure(figsize=(25,10))\n",
    "for i in range(6):       \n",
    "    plt.subplot(3,3,i+1)\n",
    "    im=plt.imshow(cliparr2[:,:,i],cmap=plt.cm.Greys_r)\n",
    "    plt.title('{} Band'.format(bandlist[i]))\n",
    "    plt.colorbar(im)\n",
    "    plt.axis('off')\n",
    "#Visualizing NDVI   \n",
    "plt.subplot(3,3,7)\n",
    "im=plt.imshow(cliparr2[:,:,6],cmap=plt.cm.rainbow)\n",
    "plt.title('{}'.format(bandlist[6]))\n",
    "plt.colorbar(im)\n",
    "plt.axis('off')\n",
    "#Visualizing NDWI\n",
    "plt.subplot(3,3,8)\n",
    "im=plt.imshow(cliparr2[:,:,7],cmap=plt.cm.rainbow)\n",
    "plt.title('{}'.format(bandlist[7]))\n",
    "plt.colorbar(im)\n",
    "plt.axis('off')\n",
    "plt.show()"
   ]
  },
  {
   "cell_type": "code",
   "execution_count": null,
   "metadata": {},
   "outputs": [],
   "source": [
    "#VISUALIZING PAIRWISE PLOT\n",
    "#Get list of single-dimensional array\n",
    "singlist2 = convert2sing(cliparr2)                \n",
    "#Function creating dataframe of input array\n",
    "def array2df(singlist2):\n",
    "    df = pd.DataFrame()\n",
    "    df['Blue'] = singlist2[0]\n",
    "    df['Green'] = singlist2[1]\n",
    "    df['Red'] = singlist2[2]\n",
    "    df['Near Infrared'] = singlist2[3]\n",
    "    df['SWIR 1'] = singlist2[4]\n",
    "    df['SWIR 2'] = singlist2[5]\n",
    "    df['NDVI'] = singlist2[6]\n",
    "    df['NDWI'] = singlist2[7]\n",
    "    return df\n",
    "#Create new dataframe storing input array\n",
    "arrdf = array2df(singlist2)\n",
    "#Draw pairwise plot of input array\n",
    "fig = plt.figure(figsize=(25,10))\n",
    "sns.pairplot(arrdf)\n",
    "plt.show()"
   ]
  },
  {
   "cell_type": "code",
   "execution_count": null,
   "metadata": {},
   "outputs": [],
   "source": [
    "#CREATING TRAINING DATA\n",
    "#Input training shapefile\n",
    "traindir = input('INPUT DIRECTORY AND NAME OF SHAPEFILE OF TRAINING DATA: ')\n",
    "while  os.path.isfile(traindir) == False:\n",
    "    print('\\nDIRECTORY DOES NOT EXIST OR WAS INCORRECTLY INPUTED! PLEASE INPUT AGAIN!\\n')\n",
    "    traindir = input('INPUT DIRECTORY AND NAME OF SHAPEFILE OF TRAINING DATA: ')\n",
    "driver = ogr.GetDriverByName(\"ESRI Shapefile\")    \n",
    "datasource = driver.Open(str(traindir),0)\n",
    "lyr = datasource.GetLayer()\n",
    "#Function get list of fields of shapefile\n",
    "def getfield(inshp):\n",
    "    trainshp = gpd.read_file(inshp)\n",
    "    return   trainshp.columns.values\n",
    "#Choose ID field (Field that hold ID number of landuse class)\n",
    "field = input('\\nINPUT NAME OF ID FIELD: ')\n",
    "while field not in getfield(traindir):\n",
    "    print('\\nFIELD DOES NOT EXIST OR WRONGLY INPUTED!\\n')\n",
    "    field = input('INPUT NAME OF ID FIELD: ')\n",
    "#Rasterize training shapefile using ID field\n",
    "#Create raster properties\n",
    "#Create spatial properties\n",
    "nrow = cliparr2.shape[0]\n",
    "ncol = cliparr2.shape[1]\n",
    "proj = img.GetProjectionRef()\n",
    "weres = 15\n",
    "nsres = 15\n",
    "ulX = XshpMin\n",
    "ulY = YshpMax\n",
    "gt = (ulX, weres, 0, ulY, 0, -nsres)\n",
    "#Create raster layer in memory\n",
    "driver = gdal.GetDriverByName('MEM')\n",
    "outrast = driver.Create('',ncol,nrow,gdal.GDT_Byte)\n",
    "outrast.SetProjection(proj)\n",
    "outrast.SetGeoTransform(gt)    \n",
    "b = outrast.GetRasterBand(1)\n",
    "gdal.RasterizeLayer(outrast,[1],lyr,options = ['ATTRIBUTE={}'.format(field)])\n",
    "trainarr = outrast.GetRasterBand(1).ReadAsArray()\n",
    "#Convert array of training data to single-dimensional array\n",
    "trainsingarr = trainarr.ravel()"
   ]
  },
  {
   "cell_type": "code",
   "execution_count": null,
   "metadata": {},
   "outputs": [],
   "source": [
    "#VISUALIZING PAIRWISE PLOT OF TRAINING DATA\n",
    "#Creating dataframe of input array and training data\n",
    "arrdf['Class'] = trainsingarr\n",
    "traindf = arrdf.loc[arrdf['Class'] > 0]\n",
    "#Draw pairwise plot of input array and training data\n",
    "fig = plt.figure(figsize=(25,10))\n",
    "sns.pairplot(traindf, hue = 'Class')\n",
    "plt.show()"
   ]
  },
  {
   "cell_type": "code",
   "execution_count": null,
   "metadata": {},
   "outputs": [],
   "source": [
    "#DRAW BOX-PLOT OF TRAINING DATA\n",
    "for band in bandlist:  \n",
    "    plt.figure\n",
    "    dfb = traindf[[band, 'Class']]\n",
    "    dfb.boxplot(column=band, by='Class', figsize=(12,10))\n",
    "    plt.show()"
   ]
  },
  {
   "cell_type": "code",
   "execution_count": null,
   "metadata": {
    "collapsed": true
   },
   "outputs": [],
   "source": [
    "#CREATE INPUTS FOR CLASSIFICATION ALGORITHM\n",
    "#Create array of input data\n",
    "inarray = arrdf[['Blue', 'Green', 'Red', 'Near Infrared', 'SWIR 1', 'SWIR 2','NDVI','NDWI']].values\n",
    "#Create inputs for classification algorithm\n",
    "X = inarray[trainsingarr>0]\n",
    "y = trainsingarr[trainsingarr>0]"
   ]
  },
  {
   "cell_type": "code",
   "execution_count": null,
   "metadata": {
    "collapsed": true
   },
   "outputs": [],
   "source": [
    "#CLASSIFICATION\n",
    "rf = RandomForestClassifier(n_estimators = 500, oob_score=True, class_weight = 'balanced')\n",
    "rf = rf.fit(X,y)\n",
    "class_prediction = rf.predict(inarray)\n",
    "class_prediction = class_prediction.reshape(cliparr[:, :, 0].shape)\n"
   ]
  },
  {
   "cell_type": "code",
   "execution_count": null,
   "metadata": {},
   "outputs": [],
   "source": [
    "#VISUALIZING CLASSIFICATION RESULT\n",
    "plt.figure(figsize = (25,10))\n",
    "im = plt.imshow(class_prediction,cmap=plt.cm.Paired)\n",
    "plt.title('RANDOM FOREST', fontsize = 15)\n",
    "plt.colorbar(im)\n",
    "plt.axis('off')\n",
    "plt.show()"
   ]
  },
  {
   "cell_type": "code",
   "execution_count": null,
   "metadata": {},
   "outputs": [],
   "source": [
    "#EXPORTING CLASSIFICATION RESULT TO TIFF FILE\n",
    "outrast = input('\\nPLEASE INPUT THE DIRECTORY AND NAME OF OUTPUT RASTER (WITH .TIF EXTENSION): ')\n",
    "while  os.path.isdir(os.path.dirname(outrast)) == False:\n",
    "    print('\\nDIRECTORY DOES NOT EXIST OR WAS INCORRECTLY INPUTED! PLEASE INPUT AGAIN!\\n')\n",
    "    outrast = input('PLEASE INPUT THE DIRECTORY AND NAME OF OUTPUT RASTER: ')\n",
    "cols = cliparr2.shape[1]\n",
    "rows = cliparr2.shape[0]\n",
    "driver2 = gdal.GetDriverByName('GTiff')\n",
    "outRaster = driver2.Create(outrast, cols, rows, 1, gdal.GDT_Byte)\n",
    "outRaster.SetGeoTransform((XshpMin, 15, 0, YshpMax, 0, -15))\n",
    "outRaster.SetProjection(proj)\n",
    "outRaster.GetRasterBand(1).WriteArray(class_prediction)\n",
    "outRaster.FlushCache()"
   ]
  }
 ],
 "metadata": {
  "kernelspec": {
   "display_name": "Python 3",
   "language": "python",
   "name": "python3"
  },
  "language_info": {
   "codemirror_mode": {
    "name": "ipython",
    "version": 3
   },
   "file_extension": ".py",
   "mimetype": "text/x-python",
   "name": "python",
   "nbconvert_exporter": "python",
   "pygments_lexer": "ipython3",
   "version": "3.6.3"
  }
 },
 "nbformat": 4,
 "nbformat_minor": 2
}
